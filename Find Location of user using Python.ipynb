{
 "cells": [
  {
   "cell_type": "code",
   "execution_count": 55,
   "id": "5aadcea5",
   "metadata": {},
   "outputs": [
    {
     "name": "stdout",
     "output_type": "stream",
     "text": [
      "Ip Address found :  223.235.7.100\n",
      "[*] Target 223.235.7.100 GeoLocated\n",
      "[+]  City : Mumbai  , Country : India  , Continent :  AS  , Postal Code : None \n",
      "Latitude : 18.974999999999994 , Longitide : 72.82579999999999\n"
     ]
    }
   ],
   "source": [
    "import pygeoip\n",
    "import urllib.request, json\n",
    "gi = pygeoip.GeoIP('GeoLiteCity.dat')\n",
    "def printRecord(tgt):\n",
    "    rec = gi.record_by_name(tgt)\n",
    "    city = rec['city']\n",
    "    pstcd = rec['postal_code']\n",
    "    cont = rec['continent']\n",
    "    country = rec['country_name']\n",
    "    long = rec['longitude']\n",
    "    lat = rec['latitude']\n",
    "    print ('[*] Target '+ tgt + ' GeoLocated')\n",
    "    print('[+]  City :',str(city) + \" \" +' , Country :',str(country) + \" \" +' , Continent : ',str(cont)+\" \"+' , Postal Code :',str(pstcd)+\" \")\n",
    "    print('Latitude :',str(lat)+\" \" +', Longitide :',str(long))\n",
    "data = json.loads(urllib.request.urlopen(\"http://ip.jsontest.com/\").read())\n",
    "tgt = data[\"ip\"]\n",
    "print(\"Ip Address found : \",tgt)\n",
    "printRecord(tgt)"
   ]
  },
  {
   "cell_type": "code",
   "execution_count": 2,
   "id": "b29e6282",
   "metadata": {},
   "outputs": [
    {
     "name": "stdout",
     "output_type": "stream",
     "text": [
      "Collecting pygeoipNote: you may need to restart the kernel to use updated packages.\n",
      "  Downloading pygeoip-0.3.2-py2.py3-none-any.whl (20 kB)\n",
      "Installing collected packages: pygeoip\n",
      "Successfully installed pygeoip-0.3.2\n",
      "\n"
     ]
    }
   ],
   "source": [
    "pip install pygeoip"
   ]
  },
  {
   "cell_type": "code",
   "execution_count": 25,
   "id": "ff3e4844",
   "metadata": {},
   "outputs": [
    {
     "name": "stdout",
     "output_type": "stream",
     "text": [
      "Your Computer Name is:LAPTOP-T82PTNMF\n",
      "Your Computer IP Address is:192.168.1.3\n"
     ]
    }
   ],
   "source": [
    "import socket\n",
    "hostname = socket.gethostname()\n",
    "IPAddr = socket.gethostbyname(hostname)\n",
    " \n",
    "print(\"Your Computer Name is:\" + hostname)\n",
    "print(\"Your Computer IP Address is:\" + IPAddr)"
   ]
  },
  {
   "cell_type": "code",
   "execution_count": 30,
   "id": "18069504",
   "metadata": {},
   "outputs": [
    {
     "ename": "AttributeError",
     "evalue": "module 'urllib' has no attribute 'urlopen'",
     "output_type": "error",
     "traceback": [
      "\u001b[1;31m---------------------------------------------------------------------------\u001b[0m",
      "\u001b[1;31mAttributeError\u001b[0m                            Traceback (most recent call last)",
      "Input \u001b[1;32mIn [30]\u001b[0m, in \u001b[0;36m<cell line: 3>\u001b[1;34m()\u001b[0m\n\u001b[0;32m      1\u001b[0m \u001b[38;5;28;01mimport\u001b[39;00m \u001b[38;5;21;01murllib\u001b[39;00m\u001b[38;5;241m,\u001b[39m \u001b[38;5;21;01mre\u001b[39;00m\n\u001b[1;32m----> 3\u001b[0m data \u001b[38;5;241m=\u001b[39m re\u001b[38;5;241m.\u001b[39msearch(\u001b[38;5;124m'\u001b[39m\u001b[38;5;124m\"\u001b[39m\u001b[38;5;124m([0-9.]*)\u001b[39m\u001b[38;5;124m\"\u001b[39m\u001b[38;5;124m'\u001b[39m, \u001b[43murllib\u001b[49m\u001b[38;5;241;43m.\u001b[39;49m\u001b[43murlopen\u001b[49m(\u001b[38;5;124m\"\u001b[39m\u001b[38;5;124mhttp://ip.jsontest.com/\u001b[39m\u001b[38;5;124m\"\u001b[39m)\u001b[38;5;241m.\u001b[39mread())\u001b[38;5;241m.\u001b[39mgroup(\u001b[38;5;241m1\u001b[39m)\n\u001b[0;32m      4\u001b[0m \u001b[38;5;28mprint\u001b[39m(data)\n",
      "\u001b[1;31mAttributeError\u001b[0m: module 'urllib' has no attribute 'urlopen'"
     ]
    }
   ],
   "source": [
    "import urllib, re\n",
    "\n",
    "data = re.search('\"([0-9.]*)\"', urllib.urlopen(\"http://ip.jsontest.com/\").read()).group(1)\n",
    "print(data)"
   ]
  },
  {
   "cell_type": "code",
   "execution_count": 39,
   "id": "12f31afc",
   "metadata": {},
   "outputs": [
    {
     "name": "stdout",
     "output_type": "stream",
     "text": [
      "223.235.7.100\n"
     ]
    }
   ],
   "source": [
    "import urllib.request, json\n",
    "data = json.loads(urllib.request.urlopen(\"http://ip.jsontest.com/\").read())\n",
    "tgt = data[\"ip\"]\n",
    "print(tgt)"
   ]
  },
  {
   "cell_type": "code",
   "execution_count": null,
   "id": "88a4d869",
   "metadata": {},
   "outputs": [],
   "source": []
  }
 ],
 "metadata": {
  "kernelspec": {
   "display_name": "Python 3 (ipykernel)",
   "language": "python",
   "name": "python3"
  },
  "language_info": {
   "codemirror_mode": {
    "name": "ipython",
    "version": 3
   },
   "file_extension": ".py",
   "mimetype": "text/x-python",
   "name": "python",
   "nbconvert_exporter": "python",
   "pygments_lexer": "ipython3",
   "version": "3.9.12"
  }
 },
 "nbformat": 4,
 "nbformat_minor": 5
}
